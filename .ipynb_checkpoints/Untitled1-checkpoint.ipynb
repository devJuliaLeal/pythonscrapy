{
 "cells": [
  {
   "cell_type": "code",
   "execution_count": 6,
   "id": "a1fc2267",
   "metadata": {},
   "outputs": [
    {
     "name": "stdout",
     "output_type": "stream",
     "text": [
      "A palavra-chave GBP foi encontrada na página\n",
      "A palavra-chave BITCOIN não foi encontrada na página\n"
     ]
    }
   ],
   "source": [
    "from selenium import webdriver\n",
    "from bs4 import BeautifulSoup\n",
    "\n",
    "# Acesse o site\n",
    "browser = webdriver.Chrome()\n",
    "browser.get(\"https://www.fxstreet.com/\")\n",
    "\n",
    "# Obtenha o HTML da página\n",
    "html = browser.page_source\n",
    "\n",
    "# Parse o HTML com o BeautifulSoup\n",
    "soup = BeautifulSoup(html, 'html.parser')\n",
    "\n",
    "# Procurar por palavras-chave\n",
    "keywordgbp = \"GBP\"\n",
    "\n",
    "if keywordgbp in soup.text:\n",
    "    print(f\"A palavra-chave {keywordgbp} foi encontrada na página\")\n",
    "else:\n",
    "    print(f\"A palavra-chave {keywordgbp} não foi encontrada na página\")\n",
    "\n",
    "keywordbitcoin = \"BITCOIN\"\n",
    "\n",
    "if keywordbitcoin  in soup.text:\n",
    "    print(f\"A palavra-chave {keywordbitcoin} foi encontrada na página\")\n",
    "else:\n",
    "    print(f\"A palavra-chave {keywordbitcoin} não foi encontrada na página\")\n",
    "# Fechar o navegador\n",
    "browser.close()"
   ]
  },
  {
   "cell_type": "code",
   "execution_count": null,
   "id": "9788a2f0",
   "metadata": {},
   "outputs": [],
   "source": []
  }
 ],
 "metadata": {
  "kernelspec": {
   "display_name": "Python 3 (ipykernel)",
   "language": "python",
   "name": "python3"
  },
  "language_info": {
   "codemirror_mode": {
    "name": "ipython",
    "version": 3
   },
   "file_extension": ".py",
   "mimetype": "text/x-python",
   "name": "python",
   "nbconvert_exporter": "python",
   "pygments_lexer": "ipython3",
   "version": "3.9.13"
  }
 },
 "nbformat": 4,
 "nbformat_minor": 5
}
